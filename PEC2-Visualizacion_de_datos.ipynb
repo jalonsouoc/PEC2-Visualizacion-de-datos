{
 "cells": [
  {
   "cell_type": "markdown",
   "id": "38243ded",
   "metadata": {},
   "source": [
    "<div style=\"width: 100%; clear: both;\">\n",
    "<div style=\"float: left; width: 50%;\">\n",
    "<img src=\"http://www.uoc.edu/portal/_resources/common/imatges/marca_UOC/UOC_Masterbrand.jpg\", align=\"left\">\n",
    "</div>\n",
    "<div style=\"float: right; width: 50%;\">\n",
    "<p style=\"margin: 0; padding-top: 22px; text-align:right;\">Visualización de Datos</p>\n",
    "<p style=\"margin: 0; text-align:right;\">Máster Universitario de Ciencia de datos </p>\n",
    "<p style=\"margin: 0; text-align:right;\">Universitat Oberta de Catalunya</p>\n",
    "    <p style=\"margin: 0; text-align:right; padding-button: 100px;\">Autor: Jorge Alonso Hernández</p>\n",
    "</div>\n",
    "</div>\n",
    "<div style=\"width:100%;\">&nbsp;</div>\n",
    "\n",
    "\n",
    "# PEC2: Estudio de técnicas de visualización de datos\n"
   ]
  },
  {
   "cell_type": "code",
   "execution_count": 4,
   "id": "5cfbf309",
   "metadata": {},
   "outputs": [],
   "source": [
    "# Carga de librerías\n",
    "import pandas as pd\n",
    "import matplotlib.pyplot as plt"
   ]
  },
  {
   "cell_type": "code",
   "execution_count": 3,
   "id": "27a96d2e",
   "metadata": {},
   "outputs": [
    {
     "name": "stdout",
     "output_type": "stream",
     "text": [
      "         FECHA  NUEVOS CASOS  ACUMULADOS 14 DIAS  IA 14 DIAS  \\\n",
      "0   2022-11-20           8.0               223.0   69.731954   \n",
      "1   2022-11-19           8.0               218.0   68.168457   \n",
      "2   2022-11-18          19.0               213.0   66.604961   \n",
      "3   2022-11-17          23.0               215.0   67.230359   \n",
      "4   2022-11-16          12.0               217.0   67.855758   \n",
      "..         ...           ...                 ...         ...   \n",
      "684 2021-01-05         177.0              1226.0  383.227993   \n",
      "685 2021-01-04          84.0              1118.0  349.468920   \n",
      "686 2021-01-03          89.0              1061.0  331.651631   \n",
      "687 2021-01-02          46.0              1001.0  312.896591   \n",
      "688 2021-01-01          78.0              1042.0  325.712535   \n",
      "\n",
      "     ACUMULADOS 7 DIAS   IA 7 DIAS  \n",
      "0                134.0   41.901712  \n",
      "1                133.0   41.589013  \n",
      "2                126.0   39.400118  \n",
      "3                118.0   36.898523  \n",
      "4                110.0   34.396928  \n",
      "..                 ...         ...  \n",
      "684              805.0  251.630126  \n",
      "685              743.0  232.249917  \n",
      "686              694.0  216.933301  \n",
      "687              644.0  201.304100  \n",
      "688              650.0  203.179605  \n",
      "\n",
      "[689 rows x 6 columns]\n"
     ]
    }
   ],
   "source": [
    "data = pd.read_excel('6-2-incidencia-acumulada-la-rioja.xlsx')\n",
    "print(data)"
   ]
  },
  {
   "cell_type": "code",
   "execution_count": 13,
   "id": "21e6632f",
   "metadata": {},
   "outputs": [
    {
     "name": "stdout",
     "output_type": "stream",
     "text": [
      "0        8.0\n",
      "1        8.0\n",
      "2       19.0\n",
      "3       23.0\n",
      "4       12.0\n",
      "       ...  \n",
      "684    177.0\n",
      "685     84.0\n",
      "686     89.0\n",
      "687     46.0\n",
      "688     78.0\n",
      "Name: NUEVOS CASOS, Length: 689, dtype: float64\n"
     ]
    }
   ],
   "source": [
    "print(data['NUEVOS CASOS'])"
   ]
  },
  {
   "cell_type": "code",
   "execution_count": 14,
   "id": "d1f3de30",
   "metadata": {},
   "outputs": [
    {
     "data": {
      "image/png": "[encoded data removed]",
      "text/plain": [
       "<Figure size 432x288 with 1 Axes>"
      ]
     },
     "metadata": {
      "needs_background": "light"
     },
     "output_type": "display_data"
    }
   ],
   "source": [
    "plt.plot(data.FECHA, data['NUEVOS CASOS'])\n",
    "plt.title('CASOS DE COVID19')\n",
    "plt.xlabel('x_axis name')\n",
    "plt.ylabel('y_axis name')\n",
    "plt.show()"
   ]
  },
  {
   "cell_type": "code",
   "execution_count": null,
   "id": "5c2dc902",
   "metadata": {},
   "outputs": [],
   "source": []
  }
 ],
 "metadata": {
  "kernelspec": {
   "display_name": "Python 3 (ipykernel)",
   "language": "python",
   "name": "python3"
  },
  "language_info": {
   "codemirror_mode": {
    "name": "ipython",
    "version": 3
   },
   "file_extension": ".py",
   "mimetype": "text/x-python",
   "name": "python",
   "nbconvert_exporter": "python",
   "pygments_lexer": "ipython3",
   "version": "3.9.12"
  }
 },
 "nbformat": 4,
 "nbformat_minor": 5
}
